{
 "cells": [
  {
   "cell_type": "code",
   "execution_count": 1,
   "metadata": {},
   "outputs": [
    {
     "name": "stderr",
     "output_type": "stream",
     "text": [
      "── Attaching packages ─────────────────────────────────────── tidyverse 1.2.1 ──\n",
      "✔ ggplot2 2.2.1          ✔ purrr   0.2.4     \n",
      "✔ tibble  1.4.2.9001     ✔ dplyr   0.7.5.9000\n",
      "✔ tidyr   0.8.0          ✔ stringr 1.3.0     \n",
      "✔ readr   1.1.1          ✔ forcats 0.3.0     \n",
      "── Conflicts ────────────────────────────────────────── tidyverse_conflicts() ──\n",
      "✖ dplyr::filter() masks stats::filter()\n",
      "✖ dplyr::lag()    masks stats::lag()\n"
     ]
    }
   ],
   "source": [
    "library(tidyverse)"
   ]
  },
  {
   "cell_type": "code",
   "execution_count": 2,
   "metadata": {},
   "outputs": [
    {
     "data": {
      "text/html": [
       "<table>\n",
       "<thead><tr><th scope=col>PersonID</th><th scope=col>Income_signal</th><th scope=col>Income</th></tr></thead>\n",
       "<tbody>\n",
       "\t<tr><td> 1</td><td>0 </td><td>0 </td></tr>\n",
       "\t<tr><td> 2</td><td>0 </td><td>0 </td></tr>\n",
       "\t<tr><td> 3</td><td>0 </td><td>0 </td></tr>\n",
       "\t<tr><td> 4</td><td>0 </td><td>0 </td></tr>\n",
       "\t<tr><td> 5</td><td>0 </td><td>0 </td></tr>\n",
       "\t<tr><td> 6</td><td>0 </td><td>0 </td></tr>\n",
       "\t<tr><td> 7</td><td>0 </td><td>0 </td></tr>\n",
       "\t<tr><td> 8</td><td>0 </td><td>0 </td></tr>\n",
       "\t<tr><td> 9</td><td>0 </td><td>0 </td></tr>\n",
       "\t<tr><td>10</td><td>0 </td><td>0 </td></tr>\n",
       "\t<tr><td>11</td><td>0 </td><td>0 </td></tr>\n",
       "\t<tr><td>12</td><td>0 </td><td>0 </td></tr>\n",
       "\t<tr><td>13</td><td>0 </td><td>0 </td></tr>\n",
       "\t<tr><td>14</td><td>0 </td><td>0 </td></tr>\n",
       "\t<tr><td>15</td><td>0 </td><td>0 </td></tr>\n",
       "\t<tr><td>16</td><td>0 </td><td>0 </td></tr>\n",
       "\t<tr><td>17</td><td>0 </td><td>0 </td></tr>\n",
       "\t<tr><td>18</td><td>0 </td><td>0 </td></tr>\n",
       "\t<tr><td>19</td><td>0 </td><td>0 </td></tr>\n",
       "\t<tr><td>20</td><td>0 </td><td>0 </td></tr>\n",
       "\t<tr><td>21</td><td>0 </td><td>0 </td></tr>\n",
       "\t<tr><td>22</td><td>0 </td><td>0 </td></tr>\n",
       "\t<tr><td>23</td><td>0 </td><td>0 </td></tr>\n",
       "\t<tr><td>24</td><td>0 </td><td>0 </td></tr>\n",
       "\t<tr><td>25</td><td>0 </td><td>0 </td></tr>\n",
       "\t<tr><td>26</td><td>0 </td><td>0 </td></tr>\n",
       "\t<tr><td>27</td><td>0 </td><td>0 </td></tr>\n",
       "\t<tr><td>28</td><td>0 </td><td>0 </td></tr>\n",
       "\t<tr><td>29</td><td>0 </td><td>0 </td></tr>\n",
       "\t<tr><td>30</td><td>0 </td><td>0 </td></tr>\n",
       "\t<tr><td>⋮</td><td>⋮</td><td>⋮</td></tr>\n",
       "\t<tr><td> 971    </td><td> 8100   </td><td>15245.91</td></tr>\n",
       "\t<tr><td> 972    </td><td> 8100   </td><td>15080.91</td></tr>\n",
       "\t<tr><td> 973    </td><td> 8100   </td><td>15194.54</td></tr>\n",
       "\t<tr><td> 974    </td><td> 8100   </td><td>15878.53</td></tr>\n",
       "\t<tr><td> 975    </td><td> 8100   </td><td>14931.02</td></tr>\n",
       "\t<tr><td> 976    </td><td> 8100   </td><td>14430.03</td></tr>\n",
       "\t<tr><td> 977    </td><td> 8100   </td><td>15037.22</td></tr>\n",
       "\t<tr><td> 978    </td><td> 8100   </td><td>14709.41</td></tr>\n",
       "\t<tr><td> 979    </td><td> 8100   </td><td>14713.98</td></tr>\n",
       "\t<tr><td> 980    </td><td> 8100   </td><td>15211.85</td></tr>\n",
       "\t<tr><td> 981    </td><td> 8100   </td><td>14676.27</td></tr>\n",
       "\t<tr><td> 982    </td><td> 8100   </td><td>14420.03</td></tr>\n",
       "\t<tr><td> 983    </td><td> 8100   </td><td>15653.53</td></tr>\n",
       "\t<tr><td> 984    </td><td> 8100   </td><td>14943.95</td></tr>\n",
       "\t<tr><td> 985    </td><td> 8100   </td><td>14452.80</td></tr>\n",
       "\t<tr><td> 986    </td><td> 8100   </td><td>15748.21</td></tr>\n",
       "\t<tr><td> 987    </td><td> 8100   </td><td>15210.55</td></tr>\n",
       "\t<tr><td> 988    </td><td> 8100   </td><td>15275.45</td></tr>\n",
       "\t<tr><td> 989    </td><td> 8100   </td><td>16040.19</td></tr>\n",
       "\t<tr><td> 990    </td><td> 8100   </td><td>15013.92</td></tr>\n",
       "\t<tr><td> 991    </td><td> 8100   </td><td>14546.19</td></tr>\n",
       "\t<tr><td> 992    </td><td> 8100   </td><td>15662.48</td></tr>\n",
       "\t<tr><td> 993    </td><td> 8100   </td><td>15130.34</td></tr>\n",
       "\t<tr><td> 994    </td><td> 8100   </td><td>15178.53</td></tr>\n",
       "\t<tr><td> 995    </td><td> 8100   </td><td>15608.94</td></tr>\n",
       "\t<tr><td> 996    </td><td> 8100   </td><td>14876.87</td></tr>\n",
       "\t<tr><td> 997    </td><td> 8100   </td><td>15201.55</td></tr>\n",
       "\t<tr><td> 998    </td><td> 8100   </td><td>15327.09</td></tr>\n",
       "\t<tr><td> 999    </td><td> 8100   </td><td>14786.20</td></tr>\n",
       "\t<tr><td>1000    </td><td>10000   </td><td>19951.18</td></tr>\n",
       "</tbody>\n",
       "</table>\n"
      ],
      "text/latex": [
       "\\begin{tabular}{r|lll}\n",
       " PersonID & Income\\_signal & Income\\\\\n",
       "\\hline\n",
       "\t  1 & 0  & 0 \\\\\n",
       "\t  2 & 0  & 0 \\\\\n",
       "\t  3 & 0  & 0 \\\\\n",
       "\t  4 & 0  & 0 \\\\\n",
       "\t  5 & 0  & 0 \\\\\n",
       "\t  6 & 0  & 0 \\\\\n",
       "\t  7 & 0  & 0 \\\\\n",
       "\t  8 & 0  & 0 \\\\\n",
       "\t  9 & 0  & 0 \\\\\n",
       "\t 10 & 0  & 0 \\\\\n",
       "\t 11 & 0  & 0 \\\\\n",
       "\t 12 & 0  & 0 \\\\\n",
       "\t 13 & 0  & 0 \\\\\n",
       "\t 14 & 0  & 0 \\\\\n",
       "\t 15 & 0  & 0 \\\\\n",
       "\t 16 & 0  & 0 \\\\\n",
       "\t 17 & 0  & 0 \\\\\n",
       "\t 18 & 0  & 0 \\\\\n",
       "\t 19 & 0  & 0 \\\\\n",
       "\t 20 & 0  & 0 \\\\\n",
       "\t 21 & 0  & 0 \\\\\n",
       "\t 22 & 0  & 0 \\\\\n",
       "\t 23 & 0  & 0 \\\\\n",
       "\t 24 & 0  & 0 \\\\\n",
       "\t 25 & 0  & 0 \\\\\n",
       "\t 26 & 0  & 0 \\\\\n",
       "\t 27 & 0  & 0 \\\\\n",
       "\t 28 & 0  & 0 \\\\\n",
       "\t 29 & 0  & 0 \\\\\n",
       "\t 30 & 0  & 0 \\\\\n",
       "\t ⋮ & ⋮ & ⋮\\\\\n",
       "\t  971     &  8100    & 15245.91\\\\\n",
       "\t  972     &  8100    & 15080.91\\\\\n",
       "\t  973     &  8100    & 15194.54\\\\\n",
       "\t  974     &  8100    & 15878.53\\\\\n",
       "\t  975     &  8100    & 14931.02\\\\\n",
       "\t  976     &  8100    & 14430.03\\\\\n",
       "\t  977     &  8100    & 15037.22\\\\\n",
       "\t  978     &  8100    & 14709.41\\\\\n",
       "\t  979     &  8100    & 14713.98\\\\\n",
       "\t  980     &  8100    & 15211.85\\\\\n",
       "\t  981     &  8100    & 14676.27\\\\\n",
       "\t  982     &  8100    & 14420.03\\\\\n",
       "\t  983     &  8100    & 15653.53\\\\\n",
       "\t  984     &  8100    & 14943.95\\\\\n",
       "\t  985     &  8100    & 14452.80\\\\\n",
       "\t  986     &  8100    & 15748.21\\\\\n",
       "\t  987     &  8100    & 15210.55\\\\\n",
       "\t  988     &  8100    & 15275.45\\\\\n",
       "\t  989     &  8100    & 16040.19\\\\\n",
       "\t  990     &  8100    & 15013.92\\\\\n",
       "\t  991     &  8100    & 14546.19\\\\\n",
       "\t  992     &  8100    & 15662.48\\\\\n",
       "\t  993     &  8100    & 15130.34\\\\\n",
       "\t  994     &  8100    & 15178.53\\\\\n",
       "\t  995     &  8100    & 15608.94\\\\\n",
       "\t  996     &  8100    & 14876.87\\\\\n",
       "\t  997     &  8100    & 15201.55\\\\\n",
       "\t  998     &  8100    & 15327.09\\\\\n",
       "\t  999     &  8100    & 14786.20\\\\\n",
       "\t 1000     & 10000    & 19951.18\\\\\n",
       "\\end{tabular}\n"
      ],
      "text/markdown": [
       "\n",
       "PersonID | Income_signal | Income | \n",
       "|---|---|---|---|---|---|---|---|---|---|---|---|---|---|---|---|---|---|---|---|---|---|---|---|---|---|---|---|---|---|---|---|---|---|---|---|---|---|---|---|---|---|---|---|---|---|---|---|---|---|---|---|---|---|---|---|---|---|---|---|---|\n",
       "|  1 | 0  | 0  | \n",
       "|  2 | 0  | 0  | \n",
       "|  3 | 0  | 0  | \n",
       "|  4 | 0  | 0  | \n",
       "|  5 | 0  | 0  | \n",
       "|  6 | 0  | 0  | \n",
       "|  7 | 0  | 0  | \n",
       "|  8 | 0  | 0  | \n",
       "|  9 | 0  | 0  | \n",
       "| 10 | 0  | 0  | \n",
       "| 11 | 0  | 0  | \n",
       "| 12 | 0  | 0  | \n",
       "| 13 | 0  | 0  | \n",
       "| 14 | 0  | 0  | \n",
       "| 15 | 0  | 0  | \n",
       "| 16 | 0  | 0  | \n",
       "| 17 | 0  | 0  | \n",
       "| 18 | 0  | 0  | \n",
       "| 19 | 0  | 0  | \n",
       "| 20 | 0  | 0  | \n",
       "| 21 | 0  | 0  | \n",
       "| 22 | 0  | 0  | \n",
       "| 23 | 0  | 0  | \n",
       "| 24 | 0  | 0  | \n",
       "| 25 | 0  | 0  | \n",
       "| 26 | 0  | 0  | \n",
       "| 27 | 0  | 0  | \n",
       "| 28 | 0  | 0  | \n",
       "| 29 | 0  | 0  | \n",
       "| 30 | 0  | 0  | \n",
       "| ⋮ | ⋮ | ⋮ | \n",
       "|  971     |  8100    | 15245.91 | \n",
       "|  972     |  8100    | 15080.91 | \n",
       "|  973     |  8100    | 15194.54 | \n",
       "|  974     |  8100    | 15878.53 | \n",
       "|  975     |  8100    | 14931.02 | \n",
       "|  976     |  8100    | 14430.03 | \n",
       "|  977     |  8100    | 15037.22 | \n",
       "|  978     |  8100    | 14709.41 | \n",
       "|  979     |  8100    | 14713.98 | \n",
       "|  980     |  8100    | 15211.85 | \n",
       "|  981     |  8100    | 14676.27 | \n",
       "|  982     |  8100    | 14420.03 | \n",
       "|  983     |  8100    | 15653.53 | \n",
       "|  984     |  8100    | 14943.95 | \n",
       "|  985     |  8100    | 14452.80 | \n",
       "|  986     |  8100    | 15748.21 | \n",
       "|  987     |  8100    | 15210.55 | \n",
       "|  988     |  8100    | 15275.45 | \n",
       "|  989     |  8100    | 16040.19 | \n",
       "|  990     |  8100    | 15013.92 | \n",
       "|  991     |  8100    | 14546.19 | \n",
       "|  992     |  8100    | 15662.48 | \n",
       "|  993     |  8100    | 15130.34 | \n",
       "|  994     |  8100    | 15178.53 | \n",
       "|  995     |  8100    | 15608.94 | \n",
       "|  996     |  8100    | 14876.87 | \n",
       "|  997     |  8100    | 15201.55 | \n",
       "|  998     |  8100    | 15327.09 | \n",
       "|  999     |  8100    | 14786.20 | \n",
       "| 1000     | 10000    | 19951.18 | \n",
       "\n",
       "\n"
      ],
      "text/plain": [
       "     PersonID Income_signal Income  \n",
       "1     1       0             0       \n",
       "2     2       0             0       \n",
       "3     3       0             0       \n",
       "4     4       0             0       \n",
       "5     5       0             0       \n",
       "6     6       0             0       \n",
       "7     7       0             0       \n",
       "8     8       0             0       \n",
       "9     9       0             0       \n",
       "10   10       0             0       \n",
       "11   11       0             0       \n",
       "12   12       0             0       \n",
       "13   13       0             0       \n",
       "14   14       0             0       \n",
       "15   15       0             0       \n",
       "16   16       0             0       \n",
       "17   17       0             0       \n",
       "18   18       0             0       \n",
       "19   19       0             0       \n",
       "20   20       0             0       \n",
       "21   21       0             0       \n",
       "22   22       0             0       \n",
       "23   23       0             0       \n",
       "24   24       0             0       \n",
       "25   25       0             0       \n",
       "26   26       0             0       \n",
       "27   27       0             0       \n",
       "28   28       0             0       \n",
       "29   29       0             0       \n",
       "30   30       0             0       \n",
       "⋮    ⋮        ⋮             ⋮       \n",
       "971   971      8100         15245.91\n",
       "972   972      8100         15080.91\n",
       "973   973      8100         15194.54\n",
       "974   974      8100         15878.53\n",
       "975   975      8100         14931.02\n",
       "976   976      8100         14430.03\n",
       "977   977      8100         15037.22\n",
       "978   978      8100         14709.41\n",
       "979   979      8100         14713.98\n",
       "980   980      8100         15211.85\n",
       "981   981      8100         14676.27\n",
       "982   982      8100         14420.03\n",
       "983   983      8100         15653.53\n",
       "984   984      8100         14943.95\n",
       "985   985      8100         14452.80\n",
       "986   986      8100         15748.21\n",
       "987   987      8100         15210.55\n",
       "988   988      8100         15275.45\n",
       "989   989      8100         16040.19\n",
       "990   990      8100         15013.92\n",
       "991   991      8100         14546.19\n",
       "992   992      8100         15662.48\n",
       "993   993      8100         15130.34\n",
       "994   994      8100         15178.53\n",
       "995   995      8100         15608.94\n",
       "996   996      8100         14876.87\n",
       "997   997      8100         15201.55\n",
       "998   998      8100         15327.09\n",
       "999   999      8100         14786.20\n",
       "1000 1000     10000         19951.18"
      ]
     },
     "metadata": {},
     "output_type": "display_data"
    }
   ],
   "source": [
    "folkPerFamily <- 5\n",
    "Families <- 200\n",
    "\n",
    "folk <- folkPerFamily * Families\n",
    "\n",
    "set.seed(43)\n",
    "Income_survey_florilandia <- tibble(PersonID = seq.int(folk),\n",
    "                       Income_signal = floor(PersonID/100)^2 * 100,\n",
    "                       Income = Income_signal + runif(folk,Income_signal/1.3,Income_signal))\n",
    "Income_survey_florilandia"
   ]
  },
  {
   "cell_type": "code",
   "execution_count": 29,
   "metadata": {},
   "outputs": [],
   "source": [
    "difference <- vector(\"numeric\", length = 1000)\n",
    "for(seeds in 1:2000){\n",
    "    set.seed(seeds)\n",
    "Income_survey_florilandia %>%\n",
    "  mutate(Income = Income + (mean(Income) - Income) / 4 + rnorm(folk,mean = 0, sd = 100) ) ->\n",
    "Income_survey_alberonia\n",
    "  difference[seeds] <- abs( median(Income_survey_alberonia$Income) - median(Income_survey_florilandia$Income))\n",
    "}\n",
    "set.seed(which.min(difference))\n",
    "Income_survey_florilandia %>%\n",
    "  mutate(Income = Income + (mean(Income) - Income) / 4 + rnorm(folk,mean = 0, sd = 100) ) ->\n",
    "Income_survey_alberonia"
   ]
  },
  {
   "cell_type": "code",
   "execution_count": 30,
   "metadata": {},
   "outputs": [
    {
     "data": {
      "image/png": "[encoded data removed]",
      "text/plain": [
       "Plot with title “Histogram of Income_survey_florilandia$Income”"
      ]
     },
     "metadata": {},
     "output_type": "display_data"
    },
    {
     "data": {
      "text/html": [
       "4427.44482446243"
      ],
      "text/latex": [
       "4427.44482446243"
      ],
      "text/markdown": [
       "4427.44482446243"
      ],
      "text/plain": [
       "[1] 4427.445"
      ]
     },
     "metadata": {},
     "output_type": "display_data"
    },
    {
     "data": {
      "text/html": [
       "4427.62699622947"
      ],
      "text/latex": [
       "4427.62699622947"
      ],
      "text/markdown": [
       "4427.62699622947"
      ],
      "text/plain": [
       "[1] 4427.627"
      ]
     },
     "metadata": {},
     "output_type": "display_data"
    },
    {
     "data": {
      "text/html": [
       "16401.4297805997"
      ],
      "text/latex": [
       "16401.4297805997"
      ],
      "text/markdown": [
       "16401.4297805997"
      ],
      "text/plain": [
       "[1] 16401.43"
      ]
     },
     "metadata": {},
     "output_type": "display_data"
    },
    {
     "data": {
      "text/html": [
       "19951.1755295456"
      ],
      "text/latex": [
       "19951.1755295456"
      ],
      "text/markdown": [
       "19951.1755295456"
      ],
      "text/plain": [
       "[1] 19951.18"
      ]
     },
     "metadata": {},
     "output_type": "display_data"
    },
    {
     "data": {
      "image/png": "[encoded data removed]",
      "text/plain": [
       "Plot with title “Histogram of Income_survey_alberonia$Income”"
      ]
     },
     "metadata": {},
     "output_type": "display_data"
    }
   ],
   "source": [
    "hist(Income_survey_florilandia$Income, breaks  = 10)\n",
    "hist(Income_survey_alberonia$Income, breaks = 10)\n",
    "median(Income_survey_alberonia$Income)\n",
    "median(Income_survey_florilandia$Income)\n",
    "max(Income_survey_alberonia$Income)\n",
    "max(Income_survey_florilandia$Income)"
   ]
  },
  {
   "cell_type": "code",
   "execution_count": 5,
   "metadata": {},
   "outputs": [],
   "source": [
    "Income_survey_florilandia$Country <- \"Florilandia\"\n",
    "Income_survey_alberonia$Country <- \"Alberonia\""
   ]
  },
  {
   "cell_type": "code",
   "execution_count": 10,
   "metadata": {},
   "outputs": [],
   "source": [
    "Income_survey_florilandia %>%\n",
    "bind_rows(Income_survey_alberonia) ->\n",
    "Income_survey\n",
    "\n",
    "write_rds(Income_survey, path = \"Income.rds\")"
   ]
  },
  {
   "cell_type": "code",
   "execution_count": null,
   "metadata": {},
   "outputs": [],
   "source": []
  }
 ],
 "metadata": {
  "kernelspec": {
   "display_name": "R",
   "language": "R",
   "name": "ir"
  },
  "language_info": {
   "codemirror_mode": "r",
   "file_extension": ".r",
   "mimetype": "text/x-r-source",
   "name": "R",
   "pygments_lexer": "r",
   "version": "3.5.0"
  }
 },
 "nbformat": 4,
 "nbformat_minor": 2
}
