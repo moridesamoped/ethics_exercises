{
 "cells": [
  {
   "cell_type": "code",
   "execution_count": 3,
   "metadata": {},
   "outputs": [],
   "source": [
    "suppressPackageStartupMessages(library(tidyverse))"
   ]
  },
  {
   "cell_type": "markdown",
   "metadata": {},
   "source": [
    "# Some drafty excercises "
   ]
  },
  {
   "cell_type": "markdown",
   "metadata": {},
   "source": [
    "## A normal income\n",
    "\n",
    "In this series of excercises you will be driven through an apparently simple data science task: computing the usual disponible income. The data set is a synthetic one, but it is similar to many real life income survey you may find in government data repositories.\n",
    "\n",
    "**_pedagogical goal_**: The series of exercise should encourage the student to consider the particular point of view they are adopting when solving even simple data science tasks. _Data analysis strongly depends on the point of view we take. This point of views do have a political meaning and they we routinely implement them in technical decision. We can not avoid them, but we should try to be aware of them._"
   ]
  },
  {
   "cell_type": "markdown",
   "metadata": {},
   "source": [
    "### Ex 1.1 Alberonia and Florilandia, being mean.\n",
    "\n",
    "In the dataframe `Income_survey` every row corresponds to a person. In the column `Income` of the dataframe you can find the yearly income of that person, normalized to a standard value."
   ]
  },
  {
   "cell_type": "code",
   "execution_count": 4,
   "metadata": {},
   "outputs": [
    {
     "data": {
      "text/html": [
       "<table>\n",
       "<thead><tr><th scope=col>PersonID</th><th scope=col>Income</th><th scope=col>Country</th><th scope=col>Family_ID</th></tr></thead>\n",
       "<tbody>\n",
       "\t<tr><td>1        </td><td>1358.146 </td><td>Alberonia</td><td> 80      </td></tr>\n",
       "\t<tr><td>2        </td><td>1717.555 </td><td>Alberonia</td><td>161      </td></tr>\n",
       "\t<tr><td>3        </td><td>1710.991 </td><td>Alberonia</td><td> 94      </td></tr>\n",
       "\t<tr><td>4        </td><td>1382.500 </td><td>Alberonia</td><td> 59      </td></tr>\n",
       "\t<tr><td>5        </td><td>1506.073 </td><td>Alberonia</td><td> 17      </td></tr>\n",
       "\t<tr><td>6        </td><td>1380.668 </td><td>Alberonia</td><td> 27      </td></tr>\n",
       "</tbody>\n",
       "</table>\n"
      ],
      "text/latex": [
       "\\begin{tabular}{r|llll}\n",
       " PersonID & Income & Country & Family\\_ID\\\\\n",
       "\\hline\n",
       "\t 1         & 1358.146  & Alberonia &  80      \\\\\n",
       "\t 2         & 1717.555  & Alberonia & 161      \\\\\n",
       "\t 3         & 1710.991  & Alberonia &  94      \\\\\n",
       "\t 4         & 1382.500  & Alberonia &  59      \\\\\n",
       "\t 5         & 1506.073  & Alberonia &  17      \\\\\n",
       "\t 6         & 1380.668  & Alberonia &  27      \\\\\n",
       "\\end{tabular}\n"
      ],
      "text/markdown": [
       "\n",
       "PersonID | Income | Country | Family_ID | \n",
       "|---|---|---|---|---|---|\n",
       "| 1         | 1358.146  | Alberonia |  80       | \n",
       "| 2         | 1717.555  | Alberonia | 161       | \n",
       "| 3         | 1710.991  | Alberonia |  94       | \n",
       "| 4         | 1382.500  | Alberonia |  59       | \n",
       "| 5         | 1506.073  | Alberonia |  17       | \n",
       "| 6         | 1380.668  | Alberonia |  27       | \n",
       "\n",
       "\n"
      ],
      "text/plain": [
       "  PersonID Income   Country   Family_ID\n",
       "1 1        1358.146 Alberonia  80      \n",
       "2 2        1717.555 Alberonia 161      \n",
       "3 3        1710.991 Alberonia  94      \n",
       "4 4        1382.500 Alberonia  59      \n",
       "5 5        1506.073 Alberonia  17      \n",
       "6 6        1380.668 Alberonia  27      "
      ]
     },
     "metadata": {},
     "output_type": "display_data"
    }
   ],
   "source": [
    "Income_survey <- read_rds(\"Income.rds\")\n",
    "Income_survey %>%\n",
    "    head()"
   ]
  },
  {
   "cell_type": "markdown",
   "metadata": {},
   "source": [
    "In the data frame we have information about two different countries: Alberonia and Florilandia. We are asked to answer a simple data science task: where are people richer? Consider the mean Incomes grouped by `Country`."
   ]
  },
  {
   "cell_type": "code",
   "execution_count": 5,
   "metadata": {},
   "outputs": [
    {
     "data": {
      "text/html": [
       "<table>\n",
       "<thead><tr><th scope=col>Country</th><th scope=col>mean_Income</th></tr></thead>\n",
       "<tbody>\n",
       "\t<tr><td>Alberonia  </td><td>5378.305   </td></tr>\n",
       "\t<tr><td>Florilandia</td><td>5378.284   </td></tr>\n",
       "</tbody>\n",
       "</table>\n"
      ],
      "text/latex": [
       "\\begin{tabular}{r|ll}\n",
       " Country & mean\\_Income\\\\\n",
       "\\hline\n",
       "\t Alberonia   & 5378.305   \\\\\n",
       "\t Florilandia & 5378.284   \\\\\n",
       "\\end{tabular}\n"
      ],
      "text/markdown": [
       "\n",
       "Country | mean_Income | \n",
       "|---|---|\n",
       "| Alberonia   | 5378.305    | \n",
       "| Florilandia | 5378.284    | \n",
       "\n",
       "\n"
      ],
      "text/plain": [
       "  Country     mean_Income\n",
       "1 Alberonia   5378.305   \n",
       "2 Florilandia 5378.284   "
      ]
     },
     "metadata": {},
     "output_type": "display_data"
    }
   ],
   "source": [
    "Income_survey %>%\n",
    "  group_by(Country) %>%\n",
    "  summarise(mean_Income = mean(Income))"
   ]
  },
  {
   "cell_type": "markdown",
   "metadata": {},
   "source": [
    "Which of the following statement would you support with reasonable confidence?\n",
    "\n",
    "- [ ] The available incomes of the citizen of the two countries do not differ significantly.\n",
    "- [ ] The available incomes of the Alberonian is significantly higher than that of the Florilandiensis.\n",
    "- [*] None of the above."
   ]
  },
  {
   "cell_type": "markdown",
   "metadata": {},
   "source": [
    "_solution_\n",
    "\n",
    "There are many reasons why we should take a step back and not jump to conclusion. At this point, what is more relevant and it is based on the difference between the average income (`mean(Income)`) and the income of the average person (`median(Income)`). In particular, the `mean(Income)` is more sensitive to the presence of outliers (few people with a very high income). On the other hand, the `median(Income)` is not effected by an increase in the income of rich."
   ]
  },
  {
   "cell_type": "markdown",
   "metadata": {},
   "source": [
    "## Ex 1.3 Being median\n",
    "\n",
    "In the data frame we have information about two different countries: Alberonia and Florilandia. Do people earn the same in the two states? Consider the `median` Incomes grouped by `Country`."
   ]
  },
  {
   "cell_type": "code",
   "execution_count": 6,
   "metadata": {},
   "outputs": [
    {
     "data": {
      "text/html": [
       "<table>\n",
       "<thead><tr><th scope=col>Country</th><th scope=col>median_Income</th></tr></thead>\n",
       "<tbody>\n",
       "\t<tr><td>Alberonia  </td><td>4427.662   </td></tr>\n",
       "\t<tr><td>Florilandia</td><td>4427.627   </td></tr>\n",
       "</tbody>\n",
       "</table>\n"
      ],
      "text/latex": [
       "\\begin{tabular}{r|ll}\n",
       " Country & median\\_Income\\\\\n",
       "\\hline\n",
       "\t Alberonia   & 4427.662   \\\\\n",
       "\t Florilandia & 4427.627   \\\\\n",
       "\\end{tabular}\n"
      ],
      "text/markdown": [
       "\n",
       "Country | median_Income | \n",
       "|---|---|\n",
       "| Alberonia   | 4427.662    | \n",
       "| Florilandia | 4427.627    | \n",
       "\n",
       "\n"
      ],
      "text/plain": [
       "  Country     median_Income\n",
       "1 Alberonia   4427.662     \n",
       "2 Florilandia 4427.627     "
      ]
     },
     "metadata": {},
     "output_type": "display_data"
    }
   ],
   "source": [
    "Income_survey %>%\n",
    "  group_by(Country) %>%\n",
    "  summarise(median_Income = median(Income))"
   ]
  },
  {
   "cell_type": "markdown",
   "metadata": {},
   "source": [
    "Can we say with reasonable confidence that the average person has access to the same income (roughly) in the two countries?\n",
    "\n",
    "- [*] no\n",
    "- [ ] yes"
   ]
  },
  {
   "cell_type": "markdown",
   "metadata": {},
   "source": [
    "_solution_\n",
    "\n",
    "We should not jump to conclusion, even if the `median(Income)` is essentially equal in the two countries. One mistake we have been committing in this analysis is to think that _every person is an island_. When we summarised, computing even a mean or a median, we considered each observation independently. However, the presence of a family structure (as indicated by the `Family_ID` field in the dataframe) suggest that people do not live independently. If they were to share their income in the family, the family structure may strongly change the result."
   ]
  },
  {
   "cell_type": "markdown",
   "metadata": {},
   "source": [
    "## Ex 1.4 Family matters\n",
    "\n",
    "In Ex 1.3 we discussed the possibility that the family structure may affect our results. Now, let's assume that the component of a family share their income, and let's repeat the analysis of Ex 1.2 and Ex 1.3 under this hypothesis. Family ties are encoded in the dataframes as factors in `Family_ID`."
   ]
  },
  {
   "cell_type": "markdown",
   "metadata": {},
   "source": [
    "Consider the following chunk of code. It encodes a specific decision about how to compute a family income. What does it entail? Changing **one** single function we could have encoded a different decision (e.g., one that considers the numerosity of a family). Try changing the following code accordingly."
   ]
  },
  {
   "cell_type": "code",
   "execution_count": 18,
   "metadata": {},
   "outputs": [
    {
     "data": {
      "text/html": [
       "<table>\n",
       "<thead><tr><th scope=col>Country</th><th scope=col>mean_Income</th></tr></thead>\n",
       "<tbody>\n",
       "\t<tr><td>Alberonia  </td><td>5013.013   </td></tr>\n",
       "\t<tr><td>Florilandia</td><td>5174.533   </td></tr>\n",
       "</tbody>\n",
       "</table>\n"
      ],
      "text/latex": [
       "\\begin{tabular}{r|ll}\n",
       " Country & mean\\_Income\\\\\n",
       "\\hline\n",
       "\t Alberonia   & 5013.013   \\\\\n",
       "\t Florilandia & 5174.533   \\\\\n",
       "\\end{tabular}\n"
      ],
      "text/markdown": [
       "\n",
       "Country | mean_Income | \n",
       "|---|---|\n",
       "| Alberonia   | 5013.013    | \n",
       "| Florilandia | 5174.533    | \n",
       "\n",
       "\n"
      ],
      "text/plain": [
       "  Country     mean_Income\n",
       "1 Alberonia   5013.013   \n",
       "2 Florilandia 5174.533   "
      ]
     },
     "metadata": {},
     "output_type": "display_data"
    }
   ],
   "source": [
    "Income_families <- Income_survey %>%\n",
    "    group_by(Country,Family_ID) %>%\n",
    "    summarise(Family_Income = sum(Income))\n",
    "\n",
    "Income_families %>%\n",
    "    group_by(Country) %>%\n",
    "    summarise(mean_Income = median(Family_Income))"
   ]
  },
  {
   "cell_type": "markdown",
   "metadata": {},
   "source": [
    "_Solution_\n",
    "\n",
    "The decision we are making in the code is to consider every family as one observation independently of the number of people that composes it. But families may have to stretch a certain income over a larger number of people. A different decision would be to consider not the overall income of a family (`sum(Income)`), but the _per person_ income (the overall divided by the number of people in that family, that is, the `mean` income for that family)."
   ]
  },
  {
   "cell_type": "code",
   "execution_count": 17,
   "metadata": {},
   "outputs": [
    {
     "data": {
      "text/html": [
       "<table>\n",
       "<thead><tr><th scope=col>Country</th><th scope=col>mean_Income</th></tr></thead>\n",
       "<tbody>\n",
       "\t<tr><td>Alberonia  </td><td>5148.613   </td></tr>\n",
       "\t<tr><td>Florilandia</td><td>5180.549   </td></tr>\n",
       "</tbody>\n",
       "</table>\n"
      ],
      "text/latex": [
       "\\begin{tabular}{r|ll}\n",
       " Country & mean\\_Income\\\\\n",
       "\\hline\n",
       "\t Alberonia   & 5148.613   \\\\\n",
       "\t Florilandia & 5180.549   \\\\\n",
       "\\end{tabular}\n"
      ],
      "text/markdown": [
       "\n",
       "Country | mean_Income | \n",
       "|---|---|\n",
       "| Alberonia   | 5148.613    | \n",
       "| Florilandia | 5180.549    | \n",
       "\n",
       "\n"
      ],
      "text/plain": [
       "  Country     mean_Income\n",
       "1 Alberonia   5148.613   \n",
       "2 Florilandia 5180.549   "
      ]
     },
     "metadata": {},
     "output_type": "display_data"
    }
   ],
   "source": [
    "Income_families <- Income_survey %>%\n",
    "    group_by(Country,Family_ID) %>%\n",
    "    summarise(Family_Income = mean(Income))\n",
    "\n",
    "Income_families %>%\n",
    "    group_by(Country) %>%\n",
    "    summarise(mean_Income = median(Family_Income))"
   ]
  },
  {
   "cell_type": "markdown",
   "metadata": {},
   "source": [
    "## Ex 1.5 Family matters and people too\n",
    "\n",
    "In Ex 1.4 we considered the possibility that the family structure may affect our results and addressed it by computing the average family income per person between the families. Let's dig deeper."
   ]
  },
  {
   "cell_type": "markdown",
   "metadata": {},
   "source": [
    "Consider the following chunk of code. The `group`ing and `summarise`ing encode a decision about what we consider our observation unit when we compute the `median` income. What does this decision entail? What unit of measure would also be reasonable to use? Implement it in the code changing the one offered here."
   ]
  },
  {
   "cell_type": "code",
   "execution_count": 14,
   "metadata": {},
   "outputs": [
    {
     "data": {
      "text/html": [
       "<table>\n",
       "<thead><tr><th scope=col>Country</th><th scope=col>mean_Income</th></tr></thead>\n",
       "<tbody>\n",
       "\t<tr><td>Alberonia  </td><td>5148.613   </td></tr>\n",
       "\t<tr><td>Florilandia</td><td>5180.549   </td></tr>\n",
       "</tbody>\n",
       "</table>\n"
      ],
      "text/latex": [
       "\\begin{tabular}{r|ll}\n",
       " Country & mean\\_Income\\\\\n",
       "\\hline\n",
       "\t Alberonia   & 5148.613   \\\\\n",
       "\t Florilandia & 5180.549   \\\\\n",
       "\\end{tabular}\n"
      ],
      "text/markdown": [
       "\n",
       "Country | mean_Income | \n",
       "|---|---|\n",
       "| Alberonia   | 5148.613    | \n",
       "| Florilandia | 5180.549    | \n",
       "\n",
       "\n"
      ],
      "text/plain": [
       "  Country     mean_Income\n",
       "1 Alberonia   5148.613   \n",
       "2 Florilandia 5180.549   "
      ]
     },
     "metadata": {},
     "output_type": "display_data"
    }
   ],
   "source": [
    "Income_families <- Income_survey %>%\n",
    "    group_by(Country,Family_ID) %>%\n",
    "    summarise(Family_Income = mean(Income))\n",
    "\n",
    "Income_families %>%\n",
    "    group_by(Country) %>%\n",
    "    summarise(mean_Income = median(Family_Income))"
   ]
  },
  {
   "cell_type": "markdown",
   "metadata": {},
   "source": [
    "_Solution_\n",
    "\n",
    "The decision affecting our result is considering families as our unit of observation, instead of individuals, and thus computing the average available income as a `median()` over the families. Doing so, individuals in larger families are less represented in our results than people in smaller families or singles. A different decision would have been deciding to average over individuals. Notice that we find a significant different solution."
   ]
  },
  {
   "cell_type": "code",
   "execution_count": 15,
   "metadata": {},
   "outputs": [
    {
     "data": {
      "text/html": [
       "<table>\n",
       "<thead><tr><th scope=col>Country</th><th scope=col>mean_available_Income</th></tr></thead>\n",
       "<tbody>\n",
       "\t<tr><td>Alberonia  </td><td>5502.398   </td></tr>\n",
       "\t<tr><td>Florilandia</td><td>4963.787   </td></tr>\n",
       "</tbody>\n",
       "</table>\n"
      ],
      "text/latex": [
       "\\begin{tabular}{r|ll}\n",
       " Country & mean\\_available\\_Income\\\\\n",
       "\\hline\n",
       "\t Alberonia   & 5502.398   \\\\\n",
       "\t Florilandia & 4963.787   \\\\\n",
       "\\end{tabular}\n"
      ],
      "text/markdown": [
       "\n",
       "Country | mean_available_Income | \n",
       "|---|---|\n",
       "| Alberonia   | 5502.398    | \n",
       "| Florilandia | 4963.787    | \n",
       "\n",
       "\n"
      ],
      "text/plain": [
       "  Country     mean_available_Income\n",
       "1 Alberonia   5502.398             \n",
       "2 Florilandia 4963.787             "
      ]
     },
     "metadata": {},
     "output_type": "display_data"
    }
   ],
   "source": [
    "Income_survey %>%\n",
    "    group_by(Country,Family_ID) %>%\n",
    "    mutate(Family_Income = mean(Income)) %>%\n",
    "    ungroup() %>%\n",
    "    group_by(Country) %>%\n",
    "    summarise(mean_available_Income = median(Family_Income))"
   ]
  },
  {
   "cell_type": "markdown",
   "metadata": {},
   "source": [
    "## Ex 1.6 Bringing it all home\n",
    "\n",
    "In Ex 1.2 to 1.5 we computed the average income of the people in Alberonia and Florilandia in 4 different ways. How would you decide which result to ?"
   ]
  },
  {
   "cell_type": "markdown",
   "metadata": {},
   "source": [
    "- [ ] Comparing the squared error distances of the models.\n",
    "- [ ] Comparing the lack-of-fit sum of squares of the models.\n",
    "- [ ] All of the above.\n",
    "- [*] None of the above."
   ]
  },
  {
   "cell_type": "markdown",
   "metadata": {},
   "source": [
    "_solution_:\n",
    "\n",
    "The difference between the results depends on difficult ethical and political decisions. They are not simply commensurable because they entail different point of views on the problem. Whatever result (or combination of results) you think more adequate in describing the reality, it is not enough to justify it on the basis of a goodness-of-fit test."
   ]
  },
  {
   "cell_type": "code",
   "execution_count": null,
   "metadata": {},
   "outputs": [],
   "source": []
  }
 ],
 "metadata": {
  "kernelspec": {
   "display_name": "R",
   "language": "R",
   "name": "ir"
  },
  "language_info": {
   "codemirror_mode": "r",
   "file_extension": ".r",
   "mimetype": "text/x-r-source",
   "name": "R",
   "pygments_lexer": "r",
   "version": "3.5.0"
  }
 },
 "nbformat": 4,
 "nbformat_minor": 2
}
